{
 "cells": [
  {
   "cell_type": "code",
   "execution_count": 1,
   "id": "3f246524",
   "metadata": {},
   "outputs": [],
   "source": [
    "import cobra\n",
    "from cobra import Model, Reaction, Metabolite\n",
    "#################################### Step_1: Add The Model ######################################\n",
    "Model_2 = Model(\"Second_Task\")\n",
    "#################################### Step_2: Add The Reactions ######################################\n",
    "R1 = Reaction(\"v0\")\n",
    "R1.name = \"v0\"\n",
    "R1.lower_bound = 1\n",
    "R1.upper_bound = 1\n",
    "\n",
    "R2 = Reaction(\"v1\")\n",
    "R2.name = \"v1\"\n",
    "R2.lower_bound = 0\n",
    "R2.upper_bound = 1000\n",
    "\n",
    "R3 = Reaction(\"v2\")\n",
    "R3.name = \"v2\"\n",
    "R3.lower_bound = 0\n",
    "R3.upper_bound = 1000\n",
    "\n",
    "R4 = Reaction(\"M\")\n",
    "R4.name = \"M\"\n",
    "R4.lower_bound = 0\n",
    "R4.upper_bound = 1000\n",
    "\n",
    "################################################# Step_3: Add The Metabolites ##################################################\n",
    "glucose = Metabolite(\"glucose\", compartment = \"c\")\n",
    "AA = Metabolite(\"AA\", compartment = \"c\")\n",
    "Biomass = Metabolite(\"Biomass\", compartment = \"c\")\n",
    "########################################### Step_4: Add Metabolites To The Reactions ###########################################\n",
    "######################### Reaction_1:  ===> glucose \n",
    "R1.add_metabolites({glucose: 1})\n",
    "######################### Reaction_2: glucose ===> AA \n",
    "R2.add_metabolites({glucose: -1, AA: 1})\n",
    "######################### Reaction_3: 9.09AA ===> Biomass \n",
    "R3.add_metabolites({AA: -9.09, Biomass: 1})\n",
    "######################### Reaction_4: Biomass ===>  \n",
    "R4.add_metabolites({Biomass: -1})\n",
    "#################################### Step_5: Reactions To The Model\n",
    "Model_2.add_reactions([R1, R2, R3, R4])\n"
   ]
  },
  {
   "cell_type": "code",
   "execution_count": 3,
   "id": "3e643de2",
   "metadata": {},
   "outputs": [],
   "source": [
    "Model_2.objective = \"M\""
   ]
  },
  {
   "cell_type": "code",
   "execution_count": 4,
   "id": "3018d5d4",
   "metadata": {},
   "outputs": [
    {
     "data": {
      "text/html": [
       "<strong><em>Optimal</em> solution with objective value 0.110</strong><br><div>\n",
       "<style scoped>\n",
       "    .dataframe tbody tr th:only-of-type {\n",
       "        vertical-align: middle;\n",
       "    }\n",
       "\n",
       "    .dataframe tbody tr th {\n",
       "        vertical-align: top;\n",
       "    }\n",
       "\n",
       "    .dataframe thead th {\n",
       "        text-align: right;\n",
       "    }\n",
       "</style>\n",
       "<table border=\"1\" class=\"dataframe\">\n",
       "  <thead>\n",
       "    <tr style=\"text-align: right;\">\n",
       "      <th></th>\n",
       "      <th>fluxes</th>\n",
       "      <th>reduced_costs</th>\n",
       "    </tr>\n",
       "  </thead>\n",
       "  <tbody>\n",
       "    <tr>\n",
       "      <th>v0</th>\n",
       "      <td>1.000000</td>\n",
       "      <td>0.220022</td>\n",
       "    </tr>\n",
       "    <tr>\n",
       "      <th>v1</th>\n",
       "      <td>1.000000</td>\n",
       "      <td>0.000000</td>\n",
       "    </tr>\n",
       "    <tr>\n",
       "      <th>v2</th>\n",
       "      <td>0.110011</td>\n",
       "      <td>0.000000</td>\n",
       "    </tr>\n",
       "    <tr>\n",
       "      <th>M</th>\n",
       "      <td>0.110011</td>\n",
       "      <td>0.000000</td>\n",
       "    </tr>\n",
       "  </tbody>\n",
       "</table>\n",
       "</div>"
      ],
      "text/plain": [
       "<Solution 0.110 at 0x16afdec6e50>"
      ]
     },
     "execution_count": 4,
     "metadata": {},
     "output_type": "execute_result"
    }
   ],
   "source": [
    "Model_2.optimize()"
   ]
  },
  {
   "cell_type": "code",
   "execution_count": 5,
   "id": "21081b82",
   "metadata": {},
   "outputs": [],
   "source": [
    "cobra.io.save_json_model(Model_2,\"E:\\Computational Biology\\Computational Biology-Tasks\\Model2.json\")"
   ]
  },
  {
   "cell_type": "code",
   "execution_count": 6,
   "id": "89b3c7fa",
   "metadata": {},
   "outputs": [
    {
     "data": {
      "text/html": [
       "\n",
       "        <table>\n",
       "            <tr>\n",
       "                <td><strong>Name</strong></td>\n",
       "                <td>Second_Task</td>\n",
       "            </tr><tr>\n",
       "                <td><strong>Memory address</strong></td>\n",
       "                <td>0x016afdeb15e0</td>\n",
       "            </tr><tr>\n",
       "                <td><strong>Number of metabolites</strong></td>\n",
       "                <td>3</td>\n",
       "            </tr><tr>\n",
       "                <td><strong>Number of reactions</strong></td>\n",
       "                <td>4</td>\n",
       "            </tr><tr>\n",
       "                <td><strong>Number of groups</strong></td>\n",
       "                <td>0</td>\n",
       "            </tr><tr>\n",
       "                <td><strong>Objective expression</strong></td>\n",
       "                <td>1.0*M - 1.0*M_reverse_69691</td>\n",
       "            </tr><tr>\n",
       "                <td><strong>Compartments</strong></td>\n",
       "                <td>c</td>\n",
       "            </tr>\n",
       "          </table>"
      ],
      "text/plain": [
       "<Model Second_Task at 0x16afdeb15e0>"
      ]
     },
     "execution_count": 6,
     "metadata": {},
     "output_type": "execute_result"
    }
   ],
   "source": [
    "cobra.io.load_json_model(\"E:\\Computational Biology\\Computational Biology-Tasks\\Model2.json\")"
   ]
  },
  {
   "cell_type": "code",
   "execution_count": 7,
   "id": "8fb140ca",
   "metadata": {},
   "outputs": [],
   "source": [
    "from escher import Builder"
   ]
  },
  {
   "cell_type": "code",
   "execution_count": 8,
   "id": "ff50febc",
   "metadata": {},
   "outputs": [],
   "source": [
    "build=Builder(model_json=\"E:\\Computational Biology\\Computational Biology-Tasks\\Model2.json\")"
   ]
  },
  {
   "cell_type": "code",
   "execution_count": 9,
   "id": "197176d5",
   "metadata": {},
   "outputs": [
    {
     "data": {
      "application/vnd.jupyter.widget-view+json": {
       "model_id": "3c1a73a61edc4b24873dd53b142b75c8",
       "version_major": 2,
       "version_minor": 0
      },
      "text/plain": [
       "Builder()"
      ]
     },
     "metadata": {},
     "output_type": "display_data"
    }
   ],
   "source": [
    "build"
   ]
  }
 ],
 "metadata": {
  "kernelspec": {
   "display_name": "Python 3 (ipykernel)",
   "language": "python",
   "name": "python3"
  },
  "language_info": {
   "codemirror_mode": {
    "name": "ipython",
    "version": 3
   },
   "file_extension": ".py",
   "mimetype": "text/x-python",
   "name": "python",
   "nbconvert_exporter": "python",
   "pygments_lexer": "ipython3",
   "version": "3.9.7"
  }
 },
 "nbformat": 4,
 "nbformat_minor": 5
}
